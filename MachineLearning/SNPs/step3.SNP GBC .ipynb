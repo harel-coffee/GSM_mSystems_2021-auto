{
 "cells": [
  {
   "cell_type": "code",
   "execution_count": null,
   "metadata": {},
   "outputs": [],
   "source": [
    "import matplotlib as mpl\n",
    "import matplotlib.pyplot as plt\n",
    "%matplotlib inline\n",
    "import numpy as np\n",
    "import glob\n",
    "import sklearn\n",
    "import pandas as pd\n",
    "import os\n",
    "import sys\n",
    "import time\n",
    "import re\n",
    "\n",
    "from sklearn.model_selection import train_test_split\n",
    "from xgboost import XGBClassifier\n",
    "from sklearn.metrics import classification_report, roc_auc_score, roc_curve, cohen_kappa_score, precision_score, recall_score, accuracy_score\n",
    "from joblib import dump, load\n",
    "\n",
    "plt.rc('figure', figsize=(16, 9))"
   ]
  },
  {
   "cell_type": "code",
   "execution_count": null,
   "metadata": {},
   "outputs": [],
   "source": [
    "# read in raw files\n",
    "filenames=glob.glob(\"SNP_data_raw/5_95_data/final_data/*.csv\")"
   ]
  },
  {
   "cell_type": "code",
   "execution_count": null,
   "metadata": {},
   "outputs": [],
   "source": [
    "filenames"
   ]
  },
  {
   "cell_type": "code",
   "execution_count": null,
   "metadata": {},
   "outputs": [],
   "source": [
    "files=[]\n",
    "files.append(filenames[2])\n",
    "files.append(filenames[-2])"
   ]
  },
  {
   "cell_type": "code",
   "execution_count": null,
   "metadata": {},
   "outputs": [],
   "source": [
    "files"
   ]
  },
  {
   "cell_type": "code",
   "execution_count": null,
   "metadata": {},
   "outputs": [],
   "source": [
    "for file in files:\n",
    "    data=pd.read_csv(file)\n",
    "    X=data.iloc[:,1:-1]\n",
    "    y=data.iloc[:,-1]\n",
    "    \n",
    "    accuracy_list=[]\n",
    "    precision_score_list=[]\n",
    "    recall_score_list=[]\n",
    "    roc_auc_score_list=[]\n",
    "    cohenkappa_score_list=[]\n",
    "    for r in range(1,100):\n",
    "        X_train, X_test, y_train, y_test = train_test_split(X, y, test_size=0.3, random_state=r)\n",
    "        model=XGBClassifier(max_depth=6)\n",
    "        model.fit(X_train, y_train)\n",
    "\n",
    "        y_pred = model.predict(X_test)\n",
    "        predictions = [round(value) for value in y_pred]\n",
    "\n",
    "        accuracy_list.append(accuracy_score(y_test, predictions))\n",
    "        precision_score_list.append(precision_score(y_test,predictions))\n",
    "        recall_score_list.append(recall_score(y_test,predictions))\n",
    "        try:\n",
    "            roc_auc_score_list.append(roc_auc_score(y_test,predictions))\n",
    "        except ValueError:\n",
    "            roc_auc_score_list.append(-1)\n",
    "        cohenkappa_score_list.append(cohen_kappa_score(y_test,predictions))  \n",
    "\n",
    "    stats = pd.DataFrame({'accuracy': accuracy_list, \n",
    "                              'precision': precision_score_list,\n",
    "                              'recall': recall_score_list,\n",
    "                              'auc': roc_auc_score_list,\n",
    "                              'kappa': cohenkappa_score_list})\n",
    "\n",
    "    stats.to_csv('SNP_data_raw/5_95_data/final_data/results/'+file.split('/')[3].split('_')[0]+'_SNP_xgboost_stats.csv')\n",
    "#     dump(model, 'filename.joblib') "
   ]
  },
  {
   "cell_type": "code",
   "execution_count": null,
   "metadata": {},
   "outputs": [],
   "source": []
  }
 ],
 "metadata": {
  "kernelspec": {
   "display_name": "Python 3",
   "language": "python",
   "name": "python3"
  },
  "language_info": {
   "codemirror_mode": {
    "name": "ipython",
    "version": 3
   },
   "file_extension": ".py",
   "mimetype": "text/x-python",
   "name": "python",
   "nbconvert_exporter": "python",
   "pygments_lexer": "ipython3",
   "version": "3.7.5"
  }
 },
 "nbformat": 4,
 "nbformat_minor": 2
}
