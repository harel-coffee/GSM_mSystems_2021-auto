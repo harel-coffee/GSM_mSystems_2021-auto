{
 "cells": [
  {
   "cell_type": "code",
   "execution_count": null,
   "metadata": {},
   "outputs": [],
   "source": [
    "import matplotlib as mpl\n",
    "import matplotlib.pyplot as plt\n",
    "%matplotlib inline\n",
    "import numpy as np\n",
    "import glob\n",
    "import sklearn\n",
    "import pandas as pd\n",
    "import os\n",
    "import sys\n",
    "import time\n",
    "import re\n",
    "import seaborn as sns\n",
    "\n",
    "from sklearn.model_selection import train_test_split\n",
    "from xgboost import XGBClassifier\n",
    "from sklearn.metrics import classification_report, roc_auc_score, roc_curve, cohen_kappa_score, precision_score, recall_score, accuracy_score\n",
    "from joblib import dump, load"
   ]
  },
  {
   "cell_type": "code",
   "execution_count": null,
   "metadata": {},
   "outputs": [],
   "source": [
    "data_files=glob.glob(\"SNP_data_raw/5_95_data/final_data/*.csv\")"
   ]
  },
  {
   "cell_type": "code",
   "execution_count": null,
   "metadata": {},
   "outputs": [],
   "source": [
    "result_files=glob.glob(\"SNP_data_raw/5_95_data/final_data/results/*.csv\")"
   ]
  },
  {
   "cell_type": "code",
   "execution_count": null,
   "metadata": {},
   "outputs": [],
   "source": [
    "result_files"
   ]
  },
  {
   "cell_type": "code",
   "execution_count": null,
   "metadata": {},
   "outputs": [],
   "source": [
    "files_dict=dict()"
   ]
  },
  {
   "cell_type": "code",
   "execution_count": null,
   "metadata": {},
   "outputs": [],
   "source": [
    "for x in data_files:\n",
    "    for y in result_files:\n",
    "        if(x.split('/')[3].split('_')[0]==y.split('/')[4].split('_')[0]):\n",
    "            files_dict[x]=y\n",
    "            break"
   ]
  },
  {
   "cell_type": "code",
   "execution_count": null,
   "metadata": {},
   "outputs": [],
   "source": [
    "files_dict"
   ]
  },
  {
   "cell_type": "code",
   "execution_count": null,
   "metadata": {},
   "outputs": [],
   "source": [
    "# k='SNP_data_raw/10_90_data/final_data/Levofloxacin_10_90_SNP.csv'\n",
    "# v='SNP_data_raw/10_90_data/final_data/results/Levofloxacin_SNP_xgboost_stats.csv'\n",
    "\n",
    "# antibiotic_name=k.split('/')[3].split('_')[0]\n",
    "# stats=pd.read_csv(v)\n",
    "# stats.drop(columns=['Unnamed: 0'],inplace=True)\n",
    "# fig = plt.figure(figsize=(16, 10))\n",
    "# ax = fig.add_subplot(111)\n",
    "# ax.title.set_text(antibiotic_name+ ': Performance metrics for Gradient Boosting Classifier (SNP Model)')\n",
    "# ax = sns.boxplot(data=stats)\n",
    "# plt.savefig('SNP_data_raw/10_90_data/final_data/results/'+antibiotic_name+'_SNP_modelling_boxes.png')\n",
    "# #     get best result by random_state from statistics\n",
    "# random_state=stats['accuracy'].argmax()+1\n",
    "# #     feature importance\n",
    "# data=pd.read_csv(k)\n",
    "# X=data.iloc[:,1:-2]\n",
    "# y=data.iloc[:,-1]\n",
    "# X_train, X_test, y_train, y_test = train_test_split(X, y, test_size=0.33, random_state=random_state)\n",
    "# model=XGBClassifier(max_depth=6)\n",
    "# model.fit(X_train, y_train)\n",
    "\n",
    "# ft_indexes=np.argwhere(model.feature_importances_ > 0).reshape(-1)\n",
    "# ft_names=[X_train.columns[i] for i in ft_indexes]\n",
    "# ft_vals=[x for x in model.feature_importances_ if x>0]\n",
    "# ft_dict=dict(zip(ft_names,ft_vals))\n",
    "# ft_dict={k: v for k, v in sorted(ft_dict.items(), key=lambda item: item[1], reverse=True)}\n",
    "# gene_list=pd.Series(ft_dict).to_frame('feature importance')\n",
    "# gene_list.to_csv('SNP_data_raw/10_90_data/final_data/results/'+antibiotic_name+'_SNP_POS_list.csv')"
   ]
  },
  {
   "cell_type": "code",
   "execution_count": null,
   "metadata": {},
   "outputs": [],
   "source": [
    "for k, v in files_dict.items():\n",
    "    #     plot \n",
    "    antibiotic_name=k.split('/')[3].split('_')[0]\n",
    "    stats=pd.read_csv(v)\n",
    "    stats.drop(columns=['Unnamed: 0'],inplace=True)\n",
    "    fig = plt.figure(figsize=(16, 10))\n",
    "    ax = fig.add_subplot(111)\n",
    "    ax.title.set_text(antibiotic_name+ ': Performance metrics for Gradient Boosting Classifier (SNP Model)')\n",
    "    ax = sns.boxplot(data=stats)\n",
    "    plt.savefig('SNP_data_raw/5_95_data/final_data/results/'+antibiotic_name+'_SNP_modelling_boxes.png')\n",
    "    #     get best result by random_state from statistics\n",
    "    random_state=stats['accuracy'].argmax()+1\n",
    "    #     feature importance\n",
    "    data=pd.read_csv(k)\n",
    "    X=data.iloc[:,1:-2]\n",
    "    y=data.iloc[:,-1]\n",
    "    X_train, X_test, y_train, y_test = train_test_split(X, y, test_size=0.33, random_state=random_state)\n",
    "    model=XGBClassifier(max_depth=6)\n",
    "    model.fit(X_train, y_train)\n",
    "\n",
    "    ft_indexes=np.argwhere(model.feature_importances_ > 0).reshape(-1)\n",
    "    ft_names=[X_train.columns[i] for i in ft_indexes]\n",
    "    ft_vals=[x for x in model.feature_importances_ if x>0]\n",
    "    ft_dict=dict(zip(ft_names,ft_vals))\n",
    "    ft_dict={k: v for k, v in sorted(ft_dict.items(), key=lambda item: item[1], reverse=True)}\n",
    "    gene_list=pd.Series(ft_dict).to_frame('feature importance')\n",
    "    gene_list.to_csv('SNP_data_raw/5_95_data/final_data/results/'+antibiotic_name+'_SNP_POS_list.csv')"
   ]
  },
  {
   "cell_type": "code",
   "execution_count": null,
   "metadata": {},
   "outputs": [],
   "source": []
  }
 ],
 "metadata": {
  "kernelspec": {
   "display_name": "Python 3",
   "language": "python",
   "name": "python3"
  },
  "language_info": {
   "codemirror_mode": {
    "name": "ipython",
    "version": 3
   },
   "file_extension": ".py",
   "mimetype": "text/x-python",
   "name": "python",
   "nbconvert_exporter": "python",
   "pygments_lexer": "ipython3",
   "version": "3.7.5"
  }
 },
 "nbformat": 4,
 "nbformat_minor": 2
}
